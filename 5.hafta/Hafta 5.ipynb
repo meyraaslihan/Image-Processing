{
 "cells": [
  {
   "cell_type": "code",
   "execution_count": null,
   "metadata": {},
   "outputs": [],
   "source": [
    "get_ipython().run_line_magic('matplotlib', 'inline')\n",
    "import numpy as np\n",
    "import matplotlib.pyplot as plt\n",
    "import pandas as pd\n",
    "import math\n",
    "image_size = 28 # width and length\n",
    "no_of_different_labels = 10 #  i.e. 0, 1, 2, 3, ..., 9\n",
    "image_pixels = image_size * image_size\n",
    "data_path = \"data/mnist/\"\n",
    "train_data = np.loadtxt(data_path + \"mnist_train.csv\", \n",
    "                        delimiter=\",\")\n",
    "test_data = np.loadtxt(data_path + \"mnist_test.csv\", \n",
    "                       delimiter=\",\")"
   ]
  },
  {
   "cell_type": "code",
   "execution_count": null,
   "metadata": {},
   "outputs": [],
   "source": [
    "def my_pdf_1(x, mu=0.0, sigma=1.0):\n",
    "    eps = np.finfo(float).eps\n",
    "    x = float(x-mu)/(sigma + eps)\n",
    "    return math.exp(-x*x/2.0)/math.sqrt(2.0*math.pi)/(sigma + eps)"
   ]
  },
  {
   "cell_type": "code",
   "execution_count": null,
   "metadata": {},
   "outputs": [],
   "source": [
    "def get_my_mean_and_std(k=0, l=0):\n",
    "    s,t = 0,0\n",
    "    for i in range(10000):\n",
    "        if(test_data[i,0]==k):\n",
    "            s = s+1\n",
    "            t = t+test_data[i,l+1]\n",
    "            \n",
    "    mean_1 = t/s\n",
    "\n",
    "    s,t = 0,0\n",
    "    for i in range(10000):\n",
    "        if(test_data[i,0]==k):\n",
    "            s=s+1\n",
    "            diff_1 = test_data[i,l+1]-mean_1\n",
    "            t=t+diff_1*diff_1\n",
    "    std_1=np.sqrt(t/(s-1))\n",
    "        \n",
    "    return mean_1, std_1"
   ]
  },
  {
   "cell_type": "code",
   "execution_count": null,
   "metadata": {},
   "outputs": [],
   "source": [
    "get_my_mean_and_std(1,10)\n",
    "my_pdf_1(10,1,3)"
   ]
  },
  {
   "cell_type": "code",
   "execution_count": null,
   "metadata": {},
   "outputs": [],
   "source": [
    "my_test_image1=plt.imread('data/new_three.jpg')\n",
    "my_test_image=my_test_image1[:,:,0]\n",
    "im_5=my_test_image.reshape(1, 784)\n",
    "plt.imshow(my_test_image)\n",
    "plt.show()\n",
    "my_test_image.ndim, my_test_image.shape"
   ]
  },
  {
   "cell_type": "code",
   "execution_count": null,
   "metadata": {},
   "outputs": [],
   "source": [
    "my_test_image[14,:]"
   ]
  },
  {
   "cell_type": "code",
   "execution_count": null,
   "metadata": {},
   "outputs": [],
   "source": [
    "my_list=[]\n",
    "for i in range(10):\n",
    "    pdf_t=0\n",
    "    for j in range(784):\n",
    "        x=im_5[0,j]\n",
    "        m_1,std_1=get_my_mean_and_std(i,j)\n",
    "        pdf_deger=my_pdf_1(x, m_1, std_1)\n",
    "        pdf_t = pdf_t + pdf_deger\n",
    "    print(pdf_t)\n",
    "    my_list.append(pdf_t)"
   ]
  },
  {
   "cell_type": "code",
   "execution_count": null,
   "metadata": {},
   "outputs": [],
   "source": [
    "max(my_list)"
   ]
  }
 ],
 "metadata": {
  "kernelspec": {
   "display_name": "Python 3",
   "language": "python",
   "name": "python3"
  },
  "language_info": {
   "codemirror_mode": {
    "name": "ipython",
    "version": 3
   },
   "file_extension": ".py",
   "mimetype": "text/x-python",
   "name": "python",
   "nbconvert_exporter": "python",
   "pygments_lexer": "ipython3",
   "version": "3.6.8"
  }
 },
 "nbformat": 4,
 "nbformat_minor": 2
}
