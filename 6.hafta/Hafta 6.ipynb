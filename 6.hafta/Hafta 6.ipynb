{
 "cells": [
  {
   "cell_type": "code",
   "execution_count": null,
   "metadata": {},
   "outputs": [],
   "source": [
    "import numpy as np\n",
    "import matplotlib.pyplot as plt\n",
    "data_path = \"data/\"\n",
    "im_1=plt.imread(data_path+\"rbf3dstill.jpg\")\n",
    "im_1.shape"
   ]
  },
  {
   "cell_type": "code",
   "execution_count": null,
   "metadata": {},
   "outputs": [],
   "source": [
    "im_2=np.zeros((118,158),dtype=np.uint8)\n",
    "im_2.shape\n",
    "im_2=im_1[:,:,0]\n",
    "im_3=np.zeros((118,158),dtype=np.uint8)\n",
    "#im_3=im_1[:,:,0]\n",
    "plt.imshow(im_2,cmap='gray')\n",
    "plt.show()"
   ]
  },
  {
   "cell_type": "code",
   "execution_count": null,
   "metadata": {},
   "outputs": [],
   "source": [
    "m,n=im_2.shape"
   ]
  },
  {
   "cell_type": "code",
   "execution_count": null,
   "metadata": {},
   "outputs": [],
   "source": [
    "for i in range(1,m-1):\n",
    "    for j in range(1,n-1):\n",
    "        s = im_2[i-1,j-1]/9 + im_2[i-1,j]/9 + im_2[i-1,j+1]/9 + im_2[i,j-1]/9 + im_2[i,j]/9 + im_2[i,j+1]/9 + im_2[i+1,j-1]/9 + im_2[i+1,j]/9 + im_2[i+1,j+1]/9\n",
    "        s=int(s)\n",
    "        \n",
    "        #s=im_2[i-1,j+1]\n",
    "        \n",
    "        #print(s, end=' * ')\n",
    "        \n",
    "        im_3[i,j]=s"
   ]
  },
  {
   "cell_type": "code",
   "execution_count": null,
   "metadata": {},
   "outputs": [],
   "source": [
    "plt.subplot(1,2,1)\n",
    "plt.imshow(im_2,cmap='gray')\n",
    "\n",
    "plt.subplot(1,2,2)\n",
    "plt.imshow(im_3,cmap='gray')"
   ]
  },
  {
   "cell_type": "code",
   "execution_count": null,
   "metadata": {},
   "outputs": [],
   "source": [
    "plt.imsave(data_path + \"test4.jpg\", im_2,cmap='gray')\n",
    "plt.imsave(data_path + \"test4-1.jpg\", im_3,cmap='gray')"
   ]
  }
 ],
 "metadata": {
  "kernelspec": {
   "display_name": "Python 3",
   "language": "python",
   "name": "python3"
  },
  "language_info": {
   "codemirror_mode": {
    "name": "ipython",
    "version": 3
   },
   "file_extension": ".py",
   "mimetype": "text/x-python",
   "name": "python",
   "nbconvert_exporter": "python",
   "pygments_lexer": "ipython3",
   "version": "3.6.8"
  }
 },
 "nbformat": 4,
 "nbformat_minor": 2
}
